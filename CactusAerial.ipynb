{
  "nbformat": 4,
  "nbformat_minor": 0,
  "metadata": {
    "colab": {
      "name": "CactusAerial.ipynb",
      "provenance": [],
      "collapsed_sections": []
    },
    "kernelspec": {
      "name": "python3",
      "display_name": "Python 3"
    },
    "accelerator": "TPU"
  },
  "cells": [
    {
      "cell_type": "markdown",
      "metadata": {
        "id": "Jel8M3LUuBU8",
        "colab_type": "text"
      },
      "source": [
        "**This Python File is Based on The Aerial Cactus Identification Challenge by Kaggle and it is executed in the Google Colab code editor using the TPU for computational requirement.**"
      ]
    },
    {
      "cell_type": "code",
      "metadata": {
        "id": "vaQCdugjJXCD",
        "colab_type": "code",
        "outputId": "c5d3bc07-4530-4a45-ef43-1012aa75b8d5",
        "colab": {
          "base_uri": "https://localhost:8080/",
          "height": 34
        }
      },
      "source": [
        "# Mounting the Drive\n",
        "from google.colab import drive\n",
        "drive.mount('/content/drive')"
      ],
      "execution_count": 0,
      "outputs": [
        {
          "output_type": "stream",
          "text": [
            "Drive already mounted at /content/drive; to attempt to forcibly remount, call drive.mount(\"/content/drive\", force_remount=True).\n"
          ],
          "name": "stdout"
        }
      ]
    },
    {
      "cell_type": "code",
      "metadata": {
        "id": "T0B1eD7gKf9j",
        "colab_type": "code",
        "outputId": "b7cfabe2-7fd6-48cb-bceb-9cc8835fe119",
        "colab": {
          "base_uri": "https://localhost:8080/",
          "height": 34
        }
      },
      "source": [
        "#Importing Keras\n",
        "from keras.models import Sequential\n",
        "\n",
        "from keras_preprocessing.image import ImageDataGenerator\n",
        "from keras.layers import Dense, Activation, Flatten, Dropout, BatchNormalization\n",
        "from keras.layers import Conv2D, MaxPooling2D\n",
        "from keras import regularizers, optimizers\n",
        "import pandas as pd\n",
        "import numpy as np"
      ],
      "execution_count": 0,
      "outputs": [
        {
          "output_type": "stream",
          "text": [
            "Using TensorFlow backend.\n"
          ],
          "name": "stderr"
        }
      ]
    },
    {
      "cell_type": "code",
      "metadata": {
        "id": "IT-iIgmWpRsw",
        "colab_type": "code",
        "colab": {}
      },
      "source": [
        "import os"
      ],
      "execution_count": 0,
      "outputs": []
    },
    {
      "cell_type": "code",
      "metadata": {
        "id": "nTRGV73EpW68",
        "colab_type": "code",
        "colab": {}
      },
      "source": [
        "#Relocating to a custom created directory\n",
        "\n",
        "os.chdir('/content/drive/My Drive/fastai/CactusAerial')"
      ],
      "execution_count": 0,
      "outputs": []
    },
    {
      "cell_type": "code",
      "metadata": {
        "id": "yCHQg_JvpZxu",
        "colab_type": "code",
        "colab": {}
      },
      "source": [
        "#Loading the datasets using Pandas\n",
        "\n",
        "train_df = pd.read_csv('train.csv')\n",
        "test_df = pd.read_csv('sample_submission.csv')"
      ],
      "execution_count": 0,
      "outputs": []
    },
    {
      "cell_type": "code",
      "metadata": {
        "id": "KkB0o8kPr4it",
        "colab_type": "code",
        "colab": {}
      },
      "source": [
        "# Converting the target entry to String due to the requirement given by the flow_from_dataframe method by Keras\n",
        "\n",
        "train_df['has_cactus'] = train_df['has_cactus'].astype(str)"
      ],
      "execution_count": 0,
      "outputs": []
    },
    {
      "cell_type": "code",
      "metadata": {
        "id": "Ma8p0YTOptfI",
        "colab_type": "code",
        "colab": {}
      },
      "source": [
        "#Creating the Datagenerators\n",
        "\n",
        "train_datagen=ImageDataGenerator(rescale=1./255,validation_split=0.2,shear_range=0.2,\n",
        "        zoom_range=0.2,\n",
        "        horizontal_flip=True)"
      ],
      "execution_count": 0,
      "outputs": []
    },
    {
      "cell_type": "code",
      "metadata": {
        "id": "-Imtw7hdp8ae",
        "colab_type": "code",
        "colab": {}
      },
      "source": [
        "test_datagen = ImageDataGenerator(rescale=1./255)\n"
      ],
      "execution_count": 0,
      "outputs": []
    },
    {
      "cell_type": "code",
      "metadata": {
        "id": "jLJM3Gi8rB0j",
        "colab_type": "code",
        "outputId": "527b736a-b8f4-43e1-db16-54e77b17c2a1",
        "colab": {
          "base_uri": "https://localhost:8080/",
          "height": 34
        }
      },
      "source": [
        "train_generator = train_datagen.flow_from_dataframe(\n",
        "        dataframe=train_df,\n",
        "        directory='./train',\n",
        "        x_col=\"id\",\n",
        "        y_col=\"has_cactus\",\n",
        "        subset=\"training\",\n",
        "        shuffle=True,\n",
        "        target_size=(32, 32),\n",
        "        batch_size=20,\n",
        "        class_mode='binary')"
      ],
      "execution_count": 0,
      "outputs": [
        {
          "output_type": "stream",
          "text": [
            "Found 14000 validated image filenames belonging to 2 classes.\n"
          ],
          "name": "stdout"
        }
      ]
    },
    {
      "cell_type": "code",
      "metadata": {
        "id": "u3ed4zdnrtXt",
        "colab_type": "code",
        "outputId": "12799c3c-8d22-4095-fc9f-fab9a136fb05",
        "colab": {
          "base_uri": "https://localhost:8080/",
          "height": 34
        }
      },
      "source": [
        "valid_generator = train_datagen.flow_from_dataframe(\n",
        "        dataframe=train_df,\n",
        "        directory='./train',\n",
        "        x_col=\"id\",\n",
        "        y_col=\"has_cactus\",\n",
        "        subset=\"validation\",\n",
        "        shuffle=True,\n",
        "        target_size=(32, 32),\n",
        "        batch_size=20,\n",
        "        class_mode='binary')"
      ],
      "execution_count": 0,
      "outputs": [
        {
          "output_type": "stream",
          "text": [
            "Found 3500 validated image filenames belonging to 2 classes.\n"
          ],
          "name": "stdout"
        }
      ]
    },
    {
      "cell_type": "code",
      "metadata": {
        "id": "s7YGRXQxsvsZ",
        "colab_type": "code",
        "outputId": "a07a4dc3-e9e1-42a2-b587-b7e5359ca94c",
        "colab": {
          "base_uri": "https://localhost:8080/",
          "height": 34
        }
      },
      "source": [
        "test_generator=test_datagen.flow_from_dataframe(\n",
        "dataframe=test_df,\n",
        "directory='./test',\n",
        "x_col=\"id\",\n",
        "y_col=None,\n",
        "shuffle=False,\n",
        "target_size=(32,32),\n",
        "batch_size=20,\n",
        "class_mode=None)"
      ],
      "execution_count": 0,
      "outputs": [
        {
          "output_type": "stream",
          "text": [
            "Found 4000 validated image filenames.\n"
          ],
          "name": "stdout"
        }
      ]
    },
    {
      "cell_type": "code",
      "metadata": {
        "id": "fpNmtd1mto5e",
        "colab_type": "code",
        "outputId": "a6464c79-a603-4695-f4c8-89e010d75d5f",
        "colab": {
          "base_uri": "https://localhost:8080/",
          "height": 377
        }
      },
      "source": [
        "#Specifying and Creating the CNN Model for Classification\n",
        "\n",
        "model = Sequential()\n",
        "model.add(Conv2D(32, (3, 3), padding='same',\n",
        "                 input_shape=(32,32,3)))\n",
        "model.add(Activation('relu'))\n",
        "model.add(Conv2D(32, (3, 3)))\n",
        "model.add(Activation('relu'))\n",
        "model.add(MaxPooling2D(pool_size=(2, 2)))\n",
        "model.add(Dropout(0.25))\n",
        "\n",
        "model.add(Conv2D(64, (3, 3), padding='same'))\n",
        "model.add(Activation('relu'))\n",
        "model.add(Conv2D(64, (3, 3)))\n",
        "model.add(Activation('relu'))\n",
        "model.add(MaxPooling2D(pool_size=(2, 2)))\n",
        "model.add(Dropout(0.25))\n",
        "\n",
        "model.add(Conv2D(64, (3, 3), padding='same'))\n",
        "model.add(Activation('relu'))\n",
        "model.add(Conv2D(64, (3, 3)))\n",
        "model.add(Activation('relu'))\n",
        "model.add(MaxPooling2D(pool_size=(2, 2)))\n",
        "model.add(Dropout(0.25))\n",
        "\n",
        "model.add(Flatten())\n",
        "model.add(Dense(512))\n",
        "model.add(Activation('relu'))\n",
        "model.add(Dropout(0.5))\n",
        "model.add(Dense(1, activation='sigmoid'))\n",
        "model.compile(optimizers.rmsprop(lr=0.0001, decay=1e-6),loss=\"binary_crossentropy\",metrics=[\"accuracy\"])"
      ],
      "execution_count": 0,
      "outputs": [
        {
          "output_type": "stream",
          "text": [
            "WARNING:tensorflow:From /usr/local/lib/python3.6/dist-packages/keras/backend/tensorflow_backend.py:66: The name tf.get_default_graph is deprecated. Please use tf.compat.v1.get_default_graph instead.\n",
            "\n",
            "WARNING:tensorflow:From /usr/local/lib/python3.6/dist-packages/keras/backend/tensorflow_backend.py:541: The name tf.placeholder is deprecated. Please use tf.compat.v1.placeholder instead.\n",
            "\n",
            "WARNING:tensorflow:From /usr/local/lib/python3.6/dist-packages/keras/backend/tensorflow_backend.py:4432: The name tf.random_uniform is deprecated. Please use tf.random.uniform instead.\n",
            "\n",
            "WARNING:tensorflow:From /usr/local/lib/python3.6/dist-packages/keras/backend/tensorflow_backend.py:4267: The name tf.nn.max_pool is deprecated. Please use tf.nn.max_pool2d instead.\n",
            "\n",
            "WARNING:tensorflow:From /usr/local/lib/python3.6/dist-packages/keras/backend/tensorflow_backend.py:148: The name tf.placeholder_with_default is deprecated. Please use tf.compat.v1.placeholder_with_default instead.\n",
            "\n",
            "WARNING:tensorflow:From /usr/local/lib/python3.6/dist-packages/keras/backend/tensorflow_backend.py:3733: calling dropout (from tensorflow.python.ops.nn_ops) with keep_prob is deprecated and will be removed in a future version.\n",
            "Instructions for updating:\n",
            "Please use `rate` instead of `keep_prob`. Rate should be set to `rate = 1 - keep_prob`.\n",
            "WARNING:tensorflow:From /usr/local/lib/python3.6/dist-packages/keras/optimizers.py:793: The name tf.train.Optimizer is deprecated. Please use tf.compat.v1.train.Optimizer instead.\n",
            "\n",
            "WARNING:tensorflow:From /usr/local/lib/python3.6/dist-packages/keras/backend/tensorflow_backend.py:3657: The name tf.log is deprecated. Please use tf.math.log instead.\n",
            "\n",
            "WARNING:tensorflow:From /usr/local/lib/python3.6/dist-packages/tensorflow_core/python/ops/nn_impl.py:183: where (from tensorflow.python.ops.array_ops) is deprecated and will be removed in a future version.\n",
            "Instructions for updating:\n",
            "Use tf.where in 2.0, which has the same broadcast rule as np.where\n"
          ],
          "name": "stdout"
        }
      ]
    },
    {
      "cell_type": "code",
      "metadata": {
        "id": "ZneyzrqW7vpv",
        "colab_type": "code",
        "colab": {}
      },
      "source": [
        "#Tried to use this for specifying steps per epoch but this was too heavy for the TPU\n",
        "\n",
        "STEP_SIZE_TRAIN=train_generator.n//train_generator.batch_size\n",
        "STEP_SIZE_VALID=valid_generator.n//valid_generator.batch_size\n",
        "STEP_SIZE_TEST=test_generator.n//test_generator.batch_size"
      ],
      "execution_count": 0,
      "outputs": []
    },
    {
      "cell_type": "code",
      "metadata": {
        "id": "h0gLX7yf8ME5",
        "colab_type": "code",
        "outputId": "50c0259c-dc22-483e-e297-8a804fa37cde",
        "colab": {
          "base_uri": "https://localhost:8080/",
          "height": 462
        }
      },
      "source": [
        "#Fitting the model to the generators and based on trial and error, Training on only 4 epochs to avoid overfitting\n",
        "\n",
        "model.fit_generator(generator=train_generator,\n",
        "                    steps_per_epoch=100,\n",
        "                    validation_data=valid_generator,\n",
        "                    validation_steps=50,\n",
        "                    epochs=4\n",
        ")"
      ],
      "execution_count": 0,
      "outputs": [
        {
          "output_type": "stream",
          "text": [
            "WARNING:tensorflow:From /usr/local/lib/python3.6/dist-packages/keras/backend/tensorflow_backend.py:1033: The name tf.assign_add is deprecated. Please use tf.compat.v1.assign_add instead.\n",
            "\n",
            "WARNING:tensorflow:From /usr/local/lib/python3.6/dist-packages/keras/backend/tensorflow_backend.py:1020: The name tf.assign is deprecated. Please use tf.compat.v1.assign instead.\n",
            "\n",
            "WARNING:tensorflow:From /usr/local/lib/python3.6/dist-packages/keras/backend/tensorflow_backend.py:3005: The name tf.Session is deprecated. Please use tf.compat.v1.Session instead.\n",
            "\n",
            "Epoch 1/4\n",
            "WARNING:tensorflow:From /usr/local/lib/python3.6/dist-packages/keras/backend/tensorflow_backend.py:190: The name tf.get_default_session is deprecated. Please use tf.compat.v1.get_default_session instead.\n",
            "\n",
            "WARNING:tensorflow:From /usr/local/lib/python3.6/dist-packages/keras/backend/tensorflow_backend.py:197: The name tf.ConfigProto is deprecated. Please use tf.compat.v1.ConfigProto instead.\n",
            "\n",
            "WARNING:tensorflow:From /usr/local/lib/python3.6/dist-packages/keras/backend/tensorflow_backend.py:207: The name tf.global_variables is deprecated. Please use tf.compat.v1.global_variables instead.\n",
            "\n",
            "WARNING:tensorflow:From /usr/local/lib/python3.6/dist-packages/keras/backend/tensorflow_backend.py:216: The name tf.is_variable_initialized is deprecated. Please use tf.compat.v1.is_variable_initialized instead.\n",
            "\n",
            "WARNING:tensorflow:From /usr/local/lib/python3.6/dist-packages/keras/backend/tensorflow_backend.py:223: The name tf.variables_initializer is deprecated. Please use tf.compat.v1.variables_initializer instead.\n",
            "\n",
            "100/100 [==============================] - 189s 2s/step - loss: 0.5519 - acc: 0.7545 - val_loss: 0.5015 - val_acc: 0.7520\n",
            "Epoch 2/4\n",
            "100/100 [==============================] - 200s 2s/step - loss: 0.3886 - acc: 0.7920 - val_loss: 0.3116 - val_acc: 0.9150\n",
            "Epoch 3/4\n",
            "100/100 [==============================] - 211s 2s/step - loss: 0.2863 - acc: 0.9070 - val_loss: 0.2750 - val_acc: 0.8880\n",
            "Epoch 4/4\n",
            "100/100 [==============================] - 198s 2s/step - loss: 0.2468 - acc: 0.9045 - val_loss: 0.2466 - val_acc: 0.9150\n"
          ],
          "name": "stdout"
        },
        {
          "output_type": "execute_result",
          "data": {
            "text/plain": [
              "<keras.callbacks.History at 0x7fca4d37bc18>"
            ]
          },
          "metadata": {
            "tags": []
          },
          "execution_count": 14
        }
      ]
    },
    {
      "cell_type": "code",
      "metadata": {
        "id": "lcI3hVGq81Qe",
        "colab_type": "code",
        "colab": {}
      },
      "source": [
        "#For Saving the weights\n",
        "\n",
        "from keras.models import model_from_json"
      ],
      "execution_count": 0,
      "outputs": []
    },
    {
      "cell_type": "code",
      "metadata": {
        "id": "w9CzIUNeWlXW",
        "colab_type": "code",
        "outputId": "aab91bea-26bd-40f8-e1a4-cf2c4c2a2bf7",
        "colab": {
          "base_uri": "https://localhost:8080/",
          "height": 34
        }
      },
      "source": [
        "# serialize model to JSON\n",
        "model_json = model.to_json()\n",
        "with open(\"model.json\", \"w\") as json_file:\n",
        "    json_file.write(model_json)\n",
        "# serialize weights to HDF5\n",
        "model.save_weights(\"model.h5\")\n",
        "print(\"Saved model to disk\")"
      ],
      "execution_count": 0,
      "outputs": [
        {
          "output_type": "stream",
          "text": [
            "Saved model to disk\n"
          ],
          "name": "stdout"
        }
      ]
    },
    {
      "cell_type": "markdown",
      "metadata": {
        "id": "tSXgJ-PrvvS8",
        "colab_type": "text"
      },
      "source": [
        "The below given text snippet is used for loading the saved weights and model and to test it"
      ]
    },
    {
      "cell_type": "code",
      "metadata": {
        "id": "U_WsEt0ZWw8o",
        "colab_type": "code",
        "colab": {}
      },
      "source": [
        "# load json and create model\n",
        "#json_file = open('model.json', 'r')\n",
        "#loaded_model_json = json_file.read()\n",
        "#json_file.close()\n",
        "#loaded_model = model_from_json(loaded_model_json)\n",
        "# load weights into new model\n",
        "#loaded_model.load_weights(\"model.h5\")\n",
        "#print(\"Loaded model from disk\")\n",
        " \n",
        "# evaluate loaded model on test data\n",
        "#loaded_model.compile(optimizers.rmsprop(lr=0.0001, decay=1e-6),loss=\"binary_crossentropy\",metrics=[\"accuracy\"])"
      ],
      "execution_count": 0,
      "outputs": []
    },
    {
      "cell_type": "code",
      "metadata": {
        "id": "pKwPmnx2XgXc",
        "colab_type": "code",
        "colab": {}
      },
      "source": [
        "#Do this  everytime you run predictions on test set to avoid confusions in the results\n",
        "\n",
        "test_generator.reset()\n"
      ],
      "execution_count": 0,
      "outputs": []
    },
    {
      "cell_type": "code",
      "metadata": {
        "id": "IihoQFZHihil",
        "colab_type": "code",
        "outputId": "28dc6e88-778d-4a63-e1b8-41708d4dae71",
        "colab": {
          "base_uri": "https://localhost:8080/",
          "height": 34
        }
      },
      "source": [
        "#Training it for 200 steps per epoch for getting the complete result\n",
        "\n",
        "pred=model.predict_generator(test_generator, steps=200, verbose=1)"
      ],
      "execution_count": 0,
      "outputs": [
        {
          "output_type": "stream",
          "text": [
            "200/200 [==============================] - 100s 500ms/step\n"
          ],
          "name": "stdout"
        }
      ]
    },
    {
      "cell_type": "code",
      "metadata": {
        "id": "z7rOD1zGYDLi",
        "colab_type": "code",
        "outputId": "c3fbe51b-a158-41b0-83d5-2e840c771d58",
        "colab": {
          "base_uri": "https://localhost:8080/",
          "height": 136
        }
      },
      "source": [
        "#We get result in the form of an array\n",
        "\n",
        "pred"
      ],
      "execution_count": 0,
      "outputs": [
        {
          "output_type": "execute_result",
          "data": {
            "text/plain": [
              "array([[0.96717846],\n",
              "       [0.99908125],\n",
              "       [0.23617807],\n",
              "       ...,\n",
              "       [0.99461937],\n",
              "       [0.9812589 ],\n",
              "       [0.8877604 ]], dtype=float32)"
            ]
          },
          "metadata": {
            "tags": []
          },
          "execution_count": 63
        }
      ]
    },
    {
      "cell_type": "code",
      "metadata": {
        "id": "OyvAOzSJd9KS",
        "colab_type": "code",
        "colab": {}
      },
      "source": [
        "#predicted_class_indices=np.argmax(pred,axis=1)"
      ],
      "execution_count": 0,
      "outputs": []
    },
    {
      "cell_type": "code",
      "metadata": {
        "id": "2wwxQfhHa1up",
        "colab_type": "code",
        "colab": {}
      },
      "source": [
        "#labels = (train_generator.class_indices)\n",
        "#labels = dict((v,k) for k,v in labels.items())\n",
        "#predictions = [labels[k] for k in predicted_class_indices]"
      ],
      "execution_count": 0,
      "outputs": []
    },
    {
      "cell_type": "code",
      "metadata": {
        "id": "xdIYEvbOrL15",
        "colab_type": "code",
        "colab": {}
      },
      "source": [
        "#Converting the prediction array to list\n",
        "\n",
        "newp = pred.tolist()"
      ],
      "execution_count": 0,
      "outputs": []
    },
    {
      "cell_type": "code",
      "metadata": {
        "id": "Z9-p9MGfs1xG",
        "colab_type": "code",
        "colab": {}
      },
      "source": [
        "#Creating the final DataFrame\n",
        "\n",
        "filenames=test_generator.filenames\n",
        "final_results=pd.DataFrame({\"Filename\":filenames,\n",
        "                      \"Prediction\":newp})"
      ],
      "execution_count": 0,
      "outputs": []
    },
    {
      "cell_type": "code",
      "metadata": {
        "id": "d_6rUN0Zs7nJ",
        "colab_type": "code",
        "outputId": "242fef73-3647-4c8f-a902-7d36c83b5965",
        "colab": {
          "base_uri": "https://localhost:8080/",
          "height": 419
        }
      },
      "source": [
        "final_results"
      ],
      "execution_count": 0,
      "outputs": [
        {
          "output_type": "execute_result",
          "data": {
            "text/html": [
              "<div>\n",
              "<style scoped>\n",
              "    .dataframe tbody tr th:only-of-type {\n",
              "        vertical-align: middle;\n",
              "    }\n",
              "\n",
              "    .dataframe tbody tr th {\n",
              "        vertical-align: top;\n",
              "    }\n",
              "\n",
              "    .dataframe thead th {\n",
              "        text-align: right;\n",
              "    }\n",
              "</style>\n",
              "<table border=\"1\" class=\"dataframe\">\n",
              "  <thead>\n",
              "    <tr style=\"text-align: right;\">\n",
              "      <th></th>\n",
              "      <th>Filename</th>\n",
              "      <th>Prediction</th>\n",
              "    </tr>\n",
              "  </thead>\n",
              "  <tbody>\n",
              "    <tr>\n",
              "      <th>0</th>\n",
              "      <td>000940378805c44108d287872b2f04ce.jpg</td>\n",
              "      <td>[0.967178463935852]</td>\n",
              "    </tr>\n",
              "    <tr>\n",
              "      <th>1</th>\n",
              "      <td>0017242f54ececa4512b4d7937d1e21e.jpg</td>\n",
              "      <td>[0.9990812540054321]</td>\n",
              "    </tr>\n",
              "    <tr>\n",
              "      <th>2</th>\n",
              "      <td>001ee6d8564003107853118ab87df407.jpg</td>\n",
              "      <td>[0.23617807030677795]</td>\n",
              "    </tr>\n",
              "    <tr>\n",
              "      <th>3</th>\n",
              "      <td>002e175c3c1e060769475f52182583d0.jpg</td>\n",
              "      <td>[0.3778188228607178]</td>\n",
              "    </tr>\n",
              "    <tr>\n",
              "      <th>4</th>\n",
              "      <td>0036e44a7e8f7218e9bc7bf8137e4943.jpg</td>\n",
              "      <td>[0.9408766031265259]</td>\n",
              "    </tr>\n",
              "    <tr>\n",
              "      <th>...</th>\n",
              "      <td>...</td>\n",
              "      <td>...</td>\n",
              "    </tr>\n",
              "    <tr>\n",
              "      <th>3995</th>\n",
              "      <td>ffaafd0c9f2f0e73172848463bc2e523.jpg</td>\n",
              "      <td>[0.9778838753700256]</td>\n",
              "    </tr>\n",
              "    <tr>\n",
              "      <th>3996</th>\n",
              "      <td>ffae37344310a1549162493237d25d3f.jpg</td>\n",
              "      <td>[0.9992281198501587]</td>\n",
              "    </tr>\n",
              "    <tr>\n",
              "      <th>3997</th>\n",
              "      <td>ffbd469c56873d064326204aac546e0d.jpg</td>\n",
              "      <td>[0.9946193695068359]</td>\n",
              "    </tr>\n",
              "    <tr>\n",
              "      <th>3998</th>\n",
              "      <td>ffcb76b7d47f29ece11c751e5f763f52.jpg</td>\n",
              "      <td>[0.9812589287757874]</td>\n",
              "    </tr>\n",
              "    <tr>\n",
              "      <th>3999</th>\n",
              "      <td>fffed17d1a8e0433a934db518d7f532c.jpg</td>\n",
              "      <td>[0.8877604007720947]</td>\n",
              "    </tr>\n",
              "  </tbody>\n",
              "</table>\n",
              "<p>4000 rows × 2 columns</p>\n",
              "</div>"
            ],
            "text/plain": [
              "                                  Filename             Prediction\n",
              "0     000940378805c44108d287872b2f04ce.jpg    [0.967178463935852]\n",
              "1     0017242f54ececa4512b4d7937d1e21e.jpg   [0.9990812540054321]\n",
              "2     001ee6d8564003107853118ab87df407.jpg  [0.23617807030677795]\n",
              "3     002e175c3c1e060769475f52182583d0.jpg   [0.3778188228607178]\n",
              "4     0036e44a7e8f7218e9bc7bf8137e4943.jpg   [0.9408766031265259]\n",
              "...                                    ...                    ...\n",
              "3995  ffaafd0c9f2f0e73172848463bc2e523.jpg   [0.9778838753700256]\n",
              "3996  ffae37344310a1549162493237d25d3f.jpg   [0.9992281198501587]\n",
              "3997  ffbd469c56873d064326204aac546e0d.jpg   [0.9946193695068359]\n",
              "3998  ffcb76b7d47f29ece11c751e5f763f52.jpg   [0.9812589287757874]\n",
              "3999  fffed17d1a8e0433a934db518d7f532c.jpg   [0.8877604007720947]\n",
              "\n",
              "[4000 rows x 2 columns]"
            ]
          },
          "metadata": {
            "tags": []
          },
          "execution_count": 95
        }
      ]
    },
    {
      "cell_type": "code",
      "metadata": {
        "id": "WGbRZDODs9mz",
        "colab_type": "code",
        "colab": {}
      },
      "source": [
        "#Saving it in the form of CSV\n",
        "\n",
        "final_results.to_csv(\"results.csv\",index=False)"
      ],
      "execution_count": 0,
      "outputs": []
    },
    {
      "cell_type": "code",
      "metadata": {
        "id": "rstPSIFLt43w",
        "colab_type": "code",
        "colab": {}
      },
      "source": [
        ""
      ],
      "execution_count": 0,
      "outputs": []
    }
  ]
}